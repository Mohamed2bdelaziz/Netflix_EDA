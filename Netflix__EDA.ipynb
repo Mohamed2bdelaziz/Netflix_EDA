{
 "cells": [
  {
   "cell_type": "markdown",
   "id": "f6a9b6ce",
   "metadata": {},
   "source": [
    "# Project: Netflix Dataset\n",
    "\n",
    "## Table of Contents\n",
    "<ul>\n",
    "<li><a href=\"#cleaing\">Data Cleaning</a></li>\n",
    "<li><a href=\"#eda\">Cleaning & Exploratory</a></li>\n",
    "<li><a href=\"#popular content\">What are the  most popular type? TV shows or Movies?</a></li>\n",
    "<li><a href=\"#highestCoun\">Which countries have the highest number of TV shows and movies available on Netflix?</a></li>\n",
    "<li><a href=\"#OverTime\">How has the number of TV shows and Movies  changed over time?</a></li>\n",
    "<li><a href=\"#directors\">Which directors have worked on the most TV shows and movies on Netflix?</a></li>\n",
    "<li><a href=\"#avgduration\">What is the average duration of TV shows and movies on Netflix?</a></li>\n",
    "<li><a href=\"#distRating\">What is the distribution of movie and TV show ratings on Netflix?</a></li>\n",
    "<li><a href=\"#patterns\">Are there any patterns or trends in the release dates of TV shows and movies on Netflix?</a></li>\n",
    "<li><a href=\"#gen\">What is the most Genres for Movies and TV Shows On Netflix?</a></li>\n",
    "<li><a href=\"#top\">What is the top Countries have diffrenet categories of genres?and whata bout Egypt?</a></li>\n",
    "<li><a href=\"#years_needed\"> How many years needed to add show to Netflix from it's releas..?</a></li>\n",
    "</ul>"
   ]
  },
  {
   "cell_type": "code",
   "execution_count": 4,
   "id": "67bc8d26",
   "metadata": {},
   "outputs": [],
   "source": [
    "import pandas as pd\n",
    "import numpy as np \n",
    "import matplotlib.pyplot as plt\n",
    "import seaborn as sns\n",
    "import datetime \n",
    "import warnings\n",
    "warnings.filterwarnings(\"ignore\")"
   ]
  },
  {
   "cell_type": "code",
   "execution_count": 5,
   "id": "0b9f98f5",
   "metadata": {},
   "outputs": [
    {
     "data": {
      "text/html": [
       "<div>\n",
       "<style scoped>\n",
       "    .dataframe tbody tr th:only-of-type {\n",
       "        vertical-align: middle;\n",
       "    }\n",
       "\n",
       "    .dataframe tbody tr th {\n",
       "        vertical-align: top;\n",
       "    }\n",
       "\n",
       "    .dataframe thead th {\n",
       "        text-align: right;\n",
       "    }\n",
       "</style>\n",
       "<table border=\"1\" class=\"dataframe\">\n",
       "  <thead>\n",
       "    <tr style=\"text-align: right;\">\n",
       "      <th></th>\n",
       "      <th>show_id</th>\n",
       "      <th>type</th>\n",
       "      <th>title</th>\n",
       "      <th>director</th>\n",
       "      <th>country</th>\n",
       "      <th>date_added</th>\n",
       "      <th>release_year</th>\n",
       "      <th>rating</th>\n",
       "      <th>duration</th>\n",
       "      <th>listed_in</th>\n",
       "    </tr>\n",
       "  </thead>\n",
       "  <tbody>\n",
       "    <tr>\n",
       "      <th>0</th>\n",
       "      <td>s1</td>\n",
       "      <td>Movie</td>\n",
       "      <td>Dick Johnson Is Dead</td>\n",
       "      <td>Kirsten Johnson</td>\n",
       "      <td>United States</td>\n",
       "      <td>9/25/2021</td>\n",
       "      <td>2020</td>\n",
       "      <td>PG-13</td>\n",
       "      <td>90 min</td>\n",
       "      <td>Documentaries</td>\n",
       "    </tr>\n",
       "    <tr>\n",
       "      <th>1</th>\n",
       "      <td>s3</td>\n",
       "      <td>TV Show</td>\n",
       "      <td>Ganglands</td>\n",
       "      <td>Julien Leclercq</td>\n",
       "      <td>France</td>\n",
       "      <td>9/24/2021</td>\n",
       "      <td>2021</td>\n",
       "      <td>TV-MA</td>\n",
       "      <td>1 Season</td>\n",
       "      <td>Crime TV Shows, International TV Shows, TV Act...</td>\n",
       "    </tr>\n",
       "    <tr>\n",
       "      <th>2</th>\n",
       "      <td>s6</td>\n",
       "      <td>TV Show</td>\n",
       "      <td>Midnight Mass</td>\n",
       "      <td>Mike Flanagan</td>\n",
       "      <td>United States</td>\n",
       "      <td>9/24/2021</td>\n",
       "      <td>2021</td>\n",
       "      <td>TV-MA</td>\n",
       "      <td>1 Season</td>\n",
       "      <td>TV Dramas, TV Horror, TV Mysteries</td>\n",
       "    </tr>\n",
       "    <tr>\n",
       "      <th>3</th>\n",
       "      <td>s14</td>\n",
       "      <td>Movie</td>\n",
       "      <td>Confessions of an Invisible Girl</td>\n",
       "      <td>Bruno Garotti</td>\n",
       "      <td>Brazil</td>\n",
       "      <td>9/22/2021</td>\n",
       "      <td>2021</td>\n",
       "      <td>TV-PG</td>\n",
       "      <td>91 min</td>\n",
       "      <td>Children &amp; Family Movies, Comedies</td>\n",
       "    </tr>\n",
       "    <tr>\n",
       "      <th>4</th>\n",
       "      <td>s8</td>\n",
       "      <td>Movie</td>\n",
       "      <td>Sankofa</td>\n",
       "      <td>Haile Gerima</td>\n",
       "      <td>United States</td>\n",
       "      <td>9/24/2021</td>\n",
       "      <td>1993</td>\n",
       "      <td>TV-MA</td>\n",
       "      <td>125 min</td>\n",
       "      <td>Dramas, Independent Movies, International Movies</td>\n",
       "    </tr>\n",
       "  </tbody>\n",
       "</table>\n",
       "</div>"
      ],
      "text/plain": [
       "  show_id     type                             title         director  \\\n",
       "0      s1    Movie              Dick Johnson Is Dead  Kirsten Johnson   \n",
       "1      s3  TV Show                         Ganglands  Julien Leclercq   \n",
       "2      s6  TV Show                     Midnight Mass    Mike Flanagan   \n",
       "3     s14    Movie  Confessions of an Invisible Girl    Bruno Garotti   \n",
       "4      s8    Movie                           Sankofa     Haile Gerima   \n",
       "\n",
       "         country date_added  release_year rating  duration  \\\n",
       "0  United States  9/25/2021          2020  PG-13    90 min   \n",
       "1         France  9/24/2021          2021  TV-MA  1 Season   \n",
       "2  United States  9/24/2021          2021  TV-MA  1 Season   \n",
       "3         Brazil  9/22/2021          2021  TV-PG    91 min   \n",
       "4  United States  9/24/2021          1993  TV-MA   125 min   \n",
       "\n",
       "                                           listed_in  \n",
       "0                                      Documentaries  \n",
       "1  Crime TV Shows, International TV Shows, TV Act...  \n",
       "2                 TV Dramas, TV Horror, TV Mysteries  \n",
       "3                 Children & Family Movies, Comedies  \n",
       "4   Dramas, Independent Movies, International Movies  "
      ]
     },
     "execution_count": 5,
     "metadata": {},
     "output_type": "execute_result"
    }
   ],
   "source": [
    "df = pd.read_csv(\"P:/PROJECTS/Netflix_EDA/netflix1.csv\")\n",
    "df.head()"
   ]
  },
  {
   "cell_type": "markdown",
   "id": "0b7fab4d",
   "metadata": {},
   "source": [
    "<a id='cleaning'></a>\n",
    "### data  cleaning"
   ]
  },
  {
   "cell_type": "code",
   "execution_count": 6,
   "id": "f172cde4",
   "metadata": {},
   "outputs": [
    {
     "data": {
      "text/plain": [
       "(8790, 10)"
      ]
     },
     "execution_count": 6,
     "metadata": {},
     "output_type": "execute_result"
    }
   ],
   "source": [
    "df.shape"
   ]
  },
  {
   "cell_type": "code",
   "execution_count": 7,
   "id": "27706d06",
   "metadata": {},
   "outputs": [
    {
     "data": {
      "text/plain": [
       "show_id         0\n",
       "type            0\n",
       "title           0\n",
       "director        0\n",
       "country         0\n",
       "date_added      0\n",
       "release_year    0\n",
       "rating          0\n",
       "duration        0\n",
       "listed_in       0\n",
       "dtype: int64"
      ]
     },
     "execution_count": 7,
     "metadata": {},
     "output_type": "execute_result"
    }
   ],
   "source": [
    "# check null values\n",
    "df.isnull().sum()"
   ]
  },
  {
   "cell_type": "code",
   "execution_count": 8,
   "id": "b570bc41",
   "metadata": {},
   "outputs": [
    {
     "name": "stdout",
     "output_type": "stream",
     "text": [
      "show_id : 8790\n",
      "s1       1\n",
      "s7990    1\n",
      "s7982    1\n",
      "s7984    1\n",
      "s7986    1\n",
      "Name: show_id, dtype: int64\n",
      "\n",
      "********************\n",
      "\n",
      "type : 2\n",
      "Movie      6126\n",
      "TV Show    2664\n",
      "Name: type, dtype: int64\n",
      "\n",
      "********************\n",
      "\n",
      "title : 8787\n",
      "9-Feb                   2\n",
      "15-Aug                  2\n",
      "22-Jul                  2\n",
      "Dick Johnson Is Dead    1\n",
      "SGT. Will Gardner       1\n",
      "Name: title, dtype: int64\n",
      "\n",
      "********************\n",
      "\n",
      "director : 4528\n",
      "Not Given                 2588\n",
      "Rajiv Chilaka               20\n",
      "Alastair Fothergill         18\n",
      "Raúl Campos, Jan Suter      18\n",
      "Suhas Kadav                 16\n",
      "Name: director, dtype: int64\n",
      "\n",
      "********************\n",
      "\n",
      "country : 86\n",
      "United States     3240\n",
      "India             1057\n",
      "United Kingdom     638\n",
      "Pakistan           421\n",
      "Not Given          287\n",
      "Name: country, dtype: int64\n",
      "\n",
      "********************\n",
      "\n",
      "date_added : 1713\n",
      "1/1/2020      110\n",
      "11/1/2019      91\n",
      "3/1/2018       75\n",
      "12/31/2019     74\n",
      "10/1/2018      71\n",
      "Name: date_added, dtype: int64\n",
      "\n",
      "********************\n",
      "\n",
      "release_year : 74\n",
      "2018    1146\n",
      "2017    1030\n",
      "2019    1030\n",
      "2020     953\n",
      "2016     901\n",
      "Name: release_year, dtype: int64\n",
      "\n",
      "********************\n",
      "\n",
      "rating : 14\n",
      "TV-MA    3205\n",
      "TV-14    2157\n",
      "TV-PG     861\n",
      "R         799\n",
      "PG-13     490\n",
      "Name: rating, dtype: int64\n",
      "\n",
      "********************\n",
      "\n",
      "duration : 220\n",
      "1 Season     1791\n",
      "2 Seasons     421\n",
      "3 Seasons     198\n",
      "90 min        152\n",
      "97 min        146\n",
      "Name: duration, dtype: int64\n",
      "\n",
      "********************\n",
      "\n",
      "listed_in : 513\n",
      "Dramas, International Movies                        362\n",
      "Documentaries                                       359\n",
      "Stand-Up Comedy                                     334\n",
      "Comedies, Dramas, International Movies              274\n",
      "Dramas, Independent Movies, International Movies    252\n",
      "Name: listed_in, dtype: int64\n",
      "\n",
      "********************\n",
      "\n"
     ]
    }
   ],
   "source": [
    "# check what every column have\n",
    "for col in df.columns:\n",
    "    print( col,':', df[col].nunique())\n",
    "    print(df[col].value_counts().nlargest(5))\n",
    "    print('\\n' + '*' * 20 + '\\n')"
   ]
  },
  {
   "cell_type": "code",
   "execution_count": 9,
   "id": "12ee8dd2",
   "metadata": {},
   "outputs": [
    {
     "data": {
      "text/html": [
       "<div>\n",
       "<style scoped>\n",
       "    .dataframe tbody tr th:only-of-type {\n",
       "        vertical-align: middle;\n",
       "    }\n",
       "\n",
       "    .dataframe tbody tr th {\n",
       "        vertical-align: top;\n",
       "    }\n",
       "\n",
       "    .dataframe thead th {\n",
       "        text-align: right;\n",
       "    }\n",
       "</style>\n",
       "<table border=\"1\" class=\"dataframe\">\n",
       "  <thead>\n",
       "    <tr style=\"text-align: right;\">\n",
       "      <th></th>\n",
       "      <th>release_year</th>\n",
       "    </tr>\n",
       "  </thead>\n",
       "  <tbody>\n",
       "    <tr>\n",
       "      <th>count</th>\n",
       "      <td>8790.000000</td>\n",
       "    </tr>\n",
       "    <tr>\n",
       "      <th>mean</th>\n",
       "      <td>2014.183163</td>\n",
       "    </tr>\n",
       "    <tr>\n",
       "      <th>std</th>\n",
       "      <td>8.825466</td>\n",
       "    </tr>\n",
       "    <tr>\n",
       "      <th>min</th>\n",
       "      <td>1925.000000</td>\n",
       "    </tr>\n",
       "    <tr>\n",
       "      <th>25%</th>\n",
       "      <td>2013.000000</td>\n",
       "    </tr>\n",
       "    <tr>\n",
       "      <th>50%</th>\n",
       "      <td>2017.000000</td>\n",
       "    </tr>\n",
       "    <tr>\n",
       "      <th>75%</th>\n",
       "      <td>2019.000000</td>\n",
       "    </tr>\n",
       "    <tr>\n",
       "      <th>max</th>\n",
       "      <td>2021.000000</td>\n",
       "    </tr>\n",
       "  </tbody>\n",
       "</table>\n",
       "</div>"
      ],
      "text/plain": [
       "       release_year\n",
       "count   8790.000000\n",
       "mean    2014.183163\n",
       "std        8.825466\n",
       "min     1925.000000\n",
       "25%     2013.000000\n",
       "50%     2017.000000\n",
       "75%     2019.000000\n",
       "max     2021.000000"
      ]
     },
     "execution_count": 9,
     "metadata": {},
     "output_type": "execute_result"
    }
   ],
   "source": [
    "# a statistical view \n",
    "df.describe()"
   ]
  },
  {
   "cell_type": "code",
   "execution_count": 10,
   "id": "6bcec0db",
   "metadata": {},
   "outputs": [
    {
     "data": {
      "text/html": [
       "<div>\n",
       "<style scoped>\n",
       "    .dataframe tbody tr th:only-of-type {\n",
       "        vertical-align: middle;\n",
       "    }\n",
       "\n",
       "    .dataframe tbody tr th {\n",
       "        vertical-align: top;\n",
       "    }\n",
       "\n",
       "    .dataframe thead th {\n",
       "        text-align: right;\n",
       "    }\n",
       "</style>\n",
       "<table border=\"1\" class=\"dataframe\">\n",
       "  <thead>\n",
       "    <tr style=\"text-align: right;\">\n",
       "      <th></th>\n",
       "      <th>show_id</th>\n",
       "      <th>type</th>\n",
       "      <th>title</th>\n",
       "      <th>director</th>\n",
       "      <th>country</th>\n",
       "      <th>date_added</th>\n",
       "      <th>rating</th>\n",
       "      <th>duration</th>\n",
       "      <th>listed_in</th>\n",
       "    </tr>\n",
       "  </thead>\n",
       "  <tbody>\n",
       "    <tr>\n",
       "      <th>count</th>\n",
       "      <td>8790</td>\n",
       "      <td>8790</td>\n",
       "      <td>8790</td>\n",
       "      <td>8790</td>\n",
       "      <td>8790</td>\n",
       "      <td>8790</td>\n",
       "      <td>8790</td>\n",
       "      <td>8790</td>\n",
       "      <td>8790</td>\n",
       "    </tr>\n",
       "    <tr>\n",
       "      <th>unique</th>\n",
       "      <td>8790</td>\n",
       "      <td>2</td>\n",
       "      <td>8787</td>\n",
       "      <td>4528</td>\n",
       "      <td>86</td>\n",
       "      <td>1713</td>\n",
       "      <td>14</td>\n",
       "      <td>220</td>\n",
       "      <td>513</td>\n",
       "    </tr>\n",
       "    <tr>\n",
       "      <th>top</th>\n",
       "      <td>s1</td>\n",
       "      <td>Movie</td>\n",
       "      <td>9-Feb</td>\n",
       "      <td>Not Given</td>\n",
       "      <td>United States</td>\n",
       "      <td>1/1/2020</td>\n",
       "      <td>TV-MA</td>\n",
       "      <td>1 Season</td>\n",
       "      <td>Dramas, International Movies</td>\n",
       "    </tr>\n",
       "    <tr>\n",
       "      <th>freq</th>\n",
       "      <td>1</td>\n",
       "      <td>6126</td>\n",
       "      <td>2</td>\n",
       "      <td>2588</td>\n",
       "      <td>3240</td>\n",
       "      <td>110</td>\n",
       "      <td>3205</td>\n",
       "      <td>1791</td>\n",
       "      <td>362</td>\n",
       "    </tr>\n",
       "  </tbody>\n",
       "</table>\n",
       "</div>"
      ],
      "text/plain": [
       "       show_id   type  title   director        country date_added rating  \\\n",
       "count     8790   8790   8790       8790           8790       8790   8790   \n",
       "unique    8790      2   8787       4528             86       1713     14   \n",
       "top         s1  Movie  9-Feb  Not Given  United States   1/1/2020  TV-MA   \n",
       "freq         1   6126      2       2588           3240        110   3205   \n",
       "\n",
       "        duration                     listed_in  \n",
       "count       8790                          8790  \n",
       "unique       220                           513  \n",
       "top     1 Season  Dramas, International Movies  \n",
       "freq        1791                           362  "
      ]
     },
     "execution_count": 10,
     "metadata": {},
     "output_type": "execute_result"
    }
   ],
   "source": [
    "df.describe(include='object') "
   ]
  },
  {
   "cell_type": "code",
   "execution_count": 11,
   "id": "d92246d8",
   "metadata": {},
   "outputs": [
    {
     "data": {
      "text/plain": [
       "0"
      ]
     },
     "execution_count": 11,
     "metadata": {},
     "output_type": "execute_result"
    }
   ],
   "source": [
    "# check duplicated record\n",
    "df.duplicated().sum()  # df[df.duplicated()]"
   ]
  },
  {
   "cell_type": "code",
   "execution_count": 12,
   "id": "08db9bf4",
   "metadata": {},
   "outputs": [
    {
     "data": {
      "text/plain": [
       "show_id         object\n",
       "type            object\n",
       "title           object\n",
       "director        object\n",
       "country         object\n",
       "date_added      object\n",
       "release_year     int64\n",
       "rating          object\n",
       "duration        object\n",
       "listed_in       object\n",
       "dtype: object"
      ]
     },
     "execution_count": 12,
     "metadata": {},
     "output_type": "execute_result"
    }
   ],
   "source": [
    "# check data type\n",
    "df.dtypes"
   ]
  },
  {
   "cell_type": "markdown",
   "id": "6af8b4cf",
   "metadata": {},
   "source": [
    "* date_added column is an object!"
   ]
  },
  {
   "cell_type": "code",
   "execution_count": 13,
   "id": "902f849c",
   "metadata": {},
   "outputs": [],
   "source": [
    "# change data_added column format\n",
    "df['date_added'] = pd.to_datetime(df['date_added'])"
   ]
  },
  {
   "cell_type": "code",
   "execution_count": 14,
   "id": "91326d0a",
   "metadata": {},
   "outputs": [
    {
     "data": {
      "text/html": [
       "<div>\n",
       "<style scoped>\n",
       "    .dataframe tbody tr th:only-of-type {\n",
       "        vertical-align: middle;\n",
       "    }\n",
       "\n",
       "    .dataframe tbody tr th {\n",
       "        vertical-align: top;\n",
       "    }\n",
       "\n",
       "    .dataframe thead th {\n",
       "        text-align: right;\n",
       "    }\n",
       "</style>\n",
       "<table border=\"1\" class=\"dataframe\">\n",
       "  <thead>\n",
       "    <tr style=\"text-align: right;\">\n",
       "      <th></th>\n",
       "      <th>show_id</th>\n",
       "      <th>type</th>\n",
       "      <th>title</th>\n",
       "      <th>director</th>\n",
       "      <th>country</th>\n",
       "      <th>date_added</th>\n",
       "      <th>release_year</th>\n",
       "      <th>rating</th>\n",
       "      <th>duration</th>\n",
       "      <th>listed_in</th>\n",
       "    </tr>\n",
       "  </thead>\n",
       "  <tbody>\n",
       "    <tr>\n",
       "      <th>0</th>\n",
       "      <td>s1</td>\n",
       "      <td>Movie</td>\n",
       "      <td>Dick Johnson Is Dead</td>\n",
       "      <td>Kirsten Johnson</td>\n",
       "      <td>United States</td>\n",
       "      <td>2021-09-25</td>\n",
       "      <td>2020</td>\n",
       "      <td>PG-13</td>\n",
       "      <td>90 min</td>\n",
       "      <td>Documentaries</td>\n",
       "    </tr>\n",
       "    <tr>\n",
       "      <th>1</th>\n",
       "      <td>s3</td>\n",
       "      <td>TV Show</td>\n",
       "      <td>Ganglands</td>\n",
       "      <td>Julien Leclercq</td>\n",
       "      <td>France</td>\n",
       "      <td>2021-09-24</td>\n",
       "      <td>2021</td>\n",
       "      <td>TV-MA</td>\n",
       "      <td>1 Season</td>\n",
       "      <td>Crime TV Shows, International TV Shows, TV Act...</td>\n",
       "    </tr>\n",
       "    <tr>\n",
       "      <th>2</th>\n",
       "      <td>s6</td>\n",
       "      <td>TV Show</td>\n",
       "      <td>Midnight Mass</td>\n",
       "      <td>Mike Flanagan</td>\n",
       "      <td>United States</td>\n",
       "      <td>2021-09-24</td>\n",
       "      <td>2021</td>\n",
       "      <td>TV-MA</td>\n",
       "      <td>1 Season</td>\n",
       "      <td>TV Dramas, TV Horror, TV Mysteries</td>\n",
       "    </tr>\n",
       "  </tbody>\n",
       "</table>\n",
       "</div>"
      ],
      "text/plain": [
       "  show_id     type                 title         director        country  \\\n",
       "0      s1    Movie  Dick Johnson Is Dead  Kirsten Johnson  United States   \n",
       "1      s3  TV Show             Ganglands  Julien Leclercq         France   \n",
       "2      s6  TV Show         Midnight Mass    Mike Flanagan  United States   \n",
       "\n",
       "  date_added  release_year rating  duration  \\\n",
       "0 2021-09-25          2020  PG-13    90 min   \n",
       "1 2021-09-24          2021  TV-MA  1 Season   \n",
       "2 2021-09-24          2021  TV-MA  1 Season   \n",
       "\n",
       "                                           listed_in  \n",
       "0                                      Documentaries  \n",
       "1  Crime TV Shows, International TV Shows, TV Act...  \n",
       "2                 TV Dramas, TV Horror, TV Mysteries  "
      ]
     },
     "execution_count": 14,
     "metadata": {},
     "output_type": "execute_result"
    }
   ],
   "source": [
    "df.head(3)"
   ]
  },
  {
   "cell_type": "markdown",
   "id": "078338c2",
   "metadata": {},
   "source": [
    "# EDA\n",
    "<a id='eda'></a>"
   ]
  },
  {
   "cell_type": "markdown",
   "id": "0d0de9af",
   "metadata": {},
   "source": [
    "<a id='popular content'></a>\n",
    "### What are the  most popular type? TV shows or Movies?"
   ]
  },
  {
   "cell_type": "code",
   "execution_count": 15,
   "id": "7f9d3a21",
   "metadata": {},
   "outputs": [
    {
     "data": {
      "text/plain": [
       "Movie      6126\n",
       "TV Show    2664\n",
       "Name: type, dtype: int64"
      ]
     },
     "execution_count": 15,
     "metadata": {},
     "output_type": "execute_result"
    }
   ],
   "source": [
    "df['type'].value_counts()"
   ]
  },
  {
   "cell_type": "code",
   "execution_count": 16,
   "id": "8854a8c8",
   "metadata": {},
   "outputs": [
    {
     "data": {
      "image/png": "[encoded data removed]",
      "text/plain": [
       "<Figure size 432x288 with 1 Axes>"
      ]
     },
     "metadata": {},
     "output_type": "display_data"
    }
   ],
   "source": [
    "df['type'].value_counts().plot(kind='pie',autopct='%1.1f%%');"
   ]
  },
  {
   "cell_type": "code",
   "execution_count": 17,
   "id": "b0fd0383",
   "metadata": {},
   "outputs": [
    {
     "data": {
      "image/png": "[encoded data removed]",
      "text/plain": [
       "<Figure size 432x288 with 1 Axes>"
      ]
     },
     "metadata": {
      "needs_background": "light"
     },
     "output_type": "display_data"
    }
   ],
   "source": [
    "sns.countplot(x= 'type' , data =df , hue= 'type');"
   ]
  },
  {
   "cell_type": "markdown",
   "id": "8b6037c3",
   "metadata": {},
   "source": [
    "* Movie is more popular than TV show"
   ]
  },
  {
   "cell_type": "markdown",
   "id": "01ddf7c3",
   "metadata": {},
   "source": [
    "<a id='highestCoun'></a>\n",
    "### Which countries have the highest number of TV shows and Movies available on Netflix?"
   ]
  },
  {
   "cell_type": "code",
   "execution_count": 18,
   "id": "7a792b3c",
   "metadata": {},
   "outputs": [
    {
     "data": {
      "image/png": "[encoded data removed]",
      "text/plain": [
       "<Figure size 432x288 with 1 Axes>"
      ]
     },
     "metadata": {
      "needs_background": "light"
     },
     "output_type": "display_data"
    }
   ],
   "source": [
    "sns.countplot(y=df['country'] , data =df[df['type']=='Movie'] ,order =df['country'].value_counts().index[:5])\n",
    "plt.xlabel('Movies Count')\n",
    "plt.title('Top 5 Countries Produce Movie');"
   ]
  },
  {
   "cell_type": "code",
   "execution_count": 19,
   "id": "2f47052c",
   "metadata": {},
   "outputs": [
    {
     "data": {
      "image/png": "[encoded data removed]",
      "text/plain": [
       "<Figure size 432x288 with 1 Axes>"
      ]
     },
     "metadata": {
      "needs_background": "light"
     },
     "output_type": "display_data"
    }
   ],
   "source": [
    "sns.countplot(y=df['country'] , data =df[df['type']=='TV Show'] ,order =df['country'].value_counts().index[:5])\n",
    "plt.xlabel('TV Shows Count')\n",
    "plt.title('Top 5 Countries Produce TV Show');"
   ]
  },
  {
   "cell_type": "markdown",
   "id": "e96e1515",
   "metadata": {},
   "source": [
    "#### notes:\n",
    "* United States is the top leaader in both movie and TV shows followed by India\n",
    "* Some Movie/TV show doesn't have a label ==>> \" labeled with 'Not Given' \""
   ]
  },
  {
   "cell_type": "code",
   "execution_count": 20,
   "id": "d78e67a0",
   "metadata": {},
   "outputs": [],
   "source": [
    "#sns.countplot(y='country' , data =df[df['type']=='TV Show'] ,order =df['country'].value_counts().index[:5])\n",
    "# y=df['country'] != y ='country' ==>> Not orderd # run to see deference"
   ]
  },
  {
   "cell_type": "markdown",
   "id": "b11a2ea1",
   "metadata": {},
   "source": [
    "<a id='OverTime'></a>\n",
    "### How has the number of TV shows and Movies  changed over time?"
   ]
  },
  {
   "cell_type": "code",
   "execution_count": 21,
   "id": "971c1693",
   "metadata": {},
   "outputs": [
    {
     "data": {
      "text/plain": [
       "0      2021-09-25\n",
       "1      2021-09-24\n",
       "2      2021-09-24\n",
       "3      2021-09-22\n",
       "4      2021-09-24\n",
       "          ...    \n",
       "8785   2017-01-17\n",
       "8786   2018-09-13\n",
       "8787   2016-12-15\n",
       "8788   2018-06-23\n",
       "8789   2018-06-07\n",
       "Name: date_added, Length: 8790, dtype: datetime64[ns]"
      ]
     },
     "execution_count": 21,
     "metadata": {},
     "output_type": "execute_result"
    }
   ],
   "source": [
    "df['date_added']"
   ]
  },
  {
   "cell_type": "code",
   "execution_count": 22,
   "id": "0572549f",
   "metadata": {},
   "outputs": [
    {
     "data": {
      "text/plain": [
       "0    2021\n",
       "1    2021\n",
       "2    2021\n",
       "3    2021\n",
       "4    2021\n",
       "Name: date_year, dtype: int64"
      ]
     },
     "execution_count": 22,
     "metadata": {},
     "output_type": "execute_result"
    }
   ],
   "source": [
    "# deravative year column from 'date_added'\n",
    "df['date_year']= df['date_added'].dt.year\n",
    "df['date_year'].head()"
   ]
  },
  {
   "cell_type": "code",
   "execution_count": 23,
   "id": "3b4ea2df",
   "metadata": {},
   "outputs": [],
   "source": [
    "type_year = (df.groupby(['type', 'date_year'])['title'])"
   ]
  },
  {
   "cell_type": "code",
   "execution_count": 24,
   "id": "6423a9da",
   "metadata": {},
   "outputs": [
    {
     "data": {
      "text/plain": [
       "0                   Dick Johnson Is Dead\n",
       "1                              Ganglands\n",
       "2                          Midnight Mass\n",
       "3       Confessions of an Invisible Girl\n",
       "4                                Sankofa\n",
       "                      ...               \n",
       "8423                     Dinner for Five\n",
       "8470                         Gossip Girl\n",
       "8609                 Pee-wee's Playhouse\n",
       "8653        Russell Peters vs. the World\n",
       "8768                               Weeds\n",
       "Name: title, Length: 103, dtype: object"
      ]
     },
     "execution_count": 24,
     "metadata": {},
     "output_type": "execute_result"
    }
   ],
   "source": [
    "type_year.head()"
   ]
  },
  {
   "cell_type": "code",
   "execution_count": 25,
   "id": "22c5d823",
   "metadata": {},
   "outputs": [],
   "source": [
    "type_year = (df.groupby(['type','date_year'])['title'].size())"
   ]
  },
  {
   "cell_type": "code",
   "execution_count": 26,
   "id": "a2ebf140",
   "metadata": {},
   "outputs": [
    {
     "data": {
      "text/plain": [
       "type     date_year\n",
       "Movie    2008            1\n",
       "         2009            2\n",
       "         2010            1\n",
       "         2011           13\n",
       "         2012            3\n",
       "         2013            6\n",
       "         2014           19\n",
       "         2015           56\n",
       "         2016          251\n",
       "         2017          836\n",
       "         2018         1237\n",
       "         2019         1424\n",
       "         2020         1284\n",
       "         2021          993\n",
       "TV Show  2008            1\n",
       "         2013            5\n",
       "         2014            5\n",
       "         2015           26\n",
       "         2016          175\n",
       "         2017          349\n",
       "Name: title, dtype: int64"
      ]
     },
     "execution_count": 26,
     "metadata": {},
     "output_type": "execute_result"
    }
   ],
   "source": [
    "type_year.head(20)"
   ]
  },
  {
   "cell_type": "code",
   "execution_count": 27,
   "id": "c8bf8f65",
   "metadata": {},
   "outputs": [],
   "source": [
    "type_year = (df.groupby(['type', 'date_year'])['title'].size()).reset_index()"
   ]
  },
  {
   "cell_type": "code",
   "execution_count": 28,
   "id": "02dd9d25",
   "metadata": {},
   "outputs": [
    {
     "data": {
      "text/html": [
       "<div>\n",
       "<style scoped>\n",
       "    .dataframe tbody tr th:only-of-type {\n",
       "        vertical-align: middle;\n",
       "    }\n",
       "\n",
       "    .dataframe tbody tr th {\n",
       "        vertical-align: top;\n",
       "    }\n",
       "\n",
       "    .dataframe thead th {\n",
       "        text-align: right;\n",
       "    }\n",
       "</style>\n",
       "<table border=\"1\" class=\"dataframe\">\n",
       "  <thead>\n",
       "    <tr style=\"text-align: right;\">\n",
       "      <th></th>\n",
       "      <th>type</th>\n",
       "      <th>date_year</th>\n",
       "      <th>title</th>\n",
       "    </tr>\n",
       "  </thead>\n",
       "  <tbody>\n",
       "    <tr>\n",
       "      <th>0</th>\n",
       "      <td>Movie</td>\n",
       "      <td>2008</td>\n",
       "      <td>1</td>\n",
       "    </tr>\n",
       "    <tr>\n",
       "      <th>1</th>\n",
       "      <td>Movie</td>\n",
       "      <td>2009</td>\n",
       "      <td>2</td>\n",
       "    </tr>\n",
       "    <tr>\n",
       "      <th>2</th>\n",
       "      <td>Movie</td>\n",
       "      <td>2010</td>\n",
       "      <td>1</td>\n",
       "    </tr>\n",
       "    <tr>\n",
       "      <th>3</th>\n",
       "      <td>Movie</td>\n",
       "      <td>2011</td>\n",
       "      <td>13</td>\n",
       "    </tr>\n",
       "    <tr>\n",
       "      <th>4</th>\n",
       "      <td>Movie</td>\n",
       "      <td>2012</td>\n",
       "      <td>3</td>\n",
       "    </tr>\n",
       "    <tr>\n",
       "      <th>5</th>\n",
       "      <td>Movie</td>\n",
       "      <td>2013</td>\n",
       "      <td>6</td>\n",
       "    </tr>\n",
       "    <tr>\n",
       "      <th>6</th>\n",
       "      <td>Movie</td>\n",
       "      <td>2014</td>\n",
       "      <td>19</td>\n",
       "    </tr>\n",
       "    <tr>\n",
       "      <th>7</th>\n",
       "      <td>Movie</td>\n",
       "      <td>2015</td>\n",
       "      <td>56</td>\n",
       "    </tr>\n",
       "    <tr>\n",
       "      <th>8</th>\n",
       "      <td>Movie</td>\n",
       "      <td>2016</td>\n",
       "      <td>251</td>\n",
       "    </tr>\n",
       "    <tr>\n",
       "      <th>9</th>\n",
       "      <td>Movie</td>\n",
       "      <td>2017</td>\n",
       "      <td>836</td>\n",
       "    </tr>\n",
       "    <tr>\n",
       "      <th>10</th>\n",
       "      <td>Movie</td>\n",
       "      <td>2018</td>\n",
       "      <td>1237</td>\n",
       "    </tr>\n",
       "    <tr>\n",
       "      <th>11</th>\n",
       "      <td>Movie</td>\n",
       "      <td>2019</td>\n",
       "      <td>1424</td>\n",
       "    </tr>\n",
       "    <tr>\n",
       "      <th>12</th>\n",
       "      <td>Movie</td>\n",
       "      <td>2020</td>\n",
       "      <td>1284</td>\n",
       "    </tr>\n",
       "    <tr>\n",
       "      <th>13</th>\n",
       "      <td>Movie</td>\n",
       "      <td>2021</td>\n",
       "      <td>993</td>\n",
       "    </tr>\n",
       "    <tr>\n",
       "      <th>14</th>\n",
       "      <td>TV Show</td>\n",
       "      <td>2008</td>\n",
       "      <td>1</td>\n",
       "    </tr>\n",
       "    <tr>\n",
       "      <th>15</th>\n",
       "      <td>TV Show</td>\n",
       "      <td>2013</td>\n",
       "      <td>5</td>\n",
       "    </tr>\n",
       "    <tr>\n",
       "      <th>16</th>\n",
       "      <td>TV Show</td>\n",
       "      <td>2014</td>\n",
       "      <td>5</td>\n",
       "    </tr>\n",
       "    <tr>\n",
       "      <th>17</th>\n",
       "      <td>TV Show</td>\n",
       "      <td>2015</td>\n",
       "      <td>26</td>\n",
       "    </tr>\n",
       "    <tr>\n",
       "      <th>18</th>\n",
       "      <td>TV Show</td>\n",
       "      <td>2016</td>\n",
       "      <td>175</td>\n",
       "    </tr>\n",
       "    <tr>\n",
       "      <th>19</th>\n",
       "      <td>TV Show</td>\n",
       "      <td>2017</td>\n",
       "      <td>349</td>\n",
       "    </tr>\n",
       "  </tbody>\n",
       "</table>\n",
       "</div>"
      ],
      "text/plain": [
       "       type  date_year  title\n",
       "0     Movie       2008      1\n",
       "1     Movie       2009      2\n",
       "2     Movie       2010      1\n",
       "3     Movie       2011     13\n",
       "4     Movie       2012      3\n",
       "5     Movie       2013      6\n",
       "6     Movie       2014     19\n",
       "7     Movie       2015     56\n",
       "8     Movie       2016    251\n",
       "9     Movie       2017    836\n",
       "10    Movie       2018   1237\n",
       "11    Movie       2019   1424\n",
       "12    Movie       2020   1284\n",
       "13    Movie       2021    993\n",
       "14  TV Show       2008      1\n",
       "15  TV Show       2013      5\n",
       "16  TV Show       2014      5\n",
       "17  TV Show       2015     26\n",
       "18  TV Show       2016    175\n",
       "19  TV Show       2017    349"
      ]
     },
     "execution_count": 28,
     "metadata": {},
     "output_type": "execute_result"
    }
   ],
   "source": [
    "type_year.head(20)"
   ]
  },
  {
   "cell_type": "code",
   "execution_count": 29,
   "id": "f61f2159",
   "metadata": {},
   "outputs": [
    {
     "data": {
      "image/png": "[encoded data removed]",
      "text/plain": [
       "<Figure size 432x288 with 1 Axes>"
      ]
     },
     "metadata": {
      "needs_background": "light"
     },
     "output_type": "display_data"
    }
   ],
   "source": [
    "sns.lineplot(x = 'date_year' ,y = 'title',data =type_year ,hue = 'type')\n",
    "plt.title(\"Movie/TV show over years\")\n",
    "plt.show();"
   ]
  },
  {
   "cell_type": "markdown",
   "id": "b98fb081",
   "metadata": {},
   "source": [
    "#### notes:\n",
    "* after 2015 Movie have much more better Growth Rate than TV Show"
   ]
  },
  {
   "cell_type": "code",
   "execution_count": 30,
   "id": "bac3fe01",
   "metadata": {},
   "outputs": [
    {
     "data": {
      "image/png": "[encoded data removed]",
      "text/plain": [
       "<Figure size 432x288 with 1 Axes>"
      ]
     },
     "metadata": {
      "needs_background": "light"
     },
     "output_type": "display_data"
    }
   ],
   "source": [
    "# which year have most Movie and TV Show\n",
    "\n",
    "sns.countplot(x='date_year',data=df,order=df['date_year'].value_counts().index[:10])\n",
    "plt.show();"
   ]
  },
  {
   "cell_type": "markdown",
   "id": "8af70875",
   "metadata": {},
   "source": [
    "* 2019 is the most year were Movie/TV show"
   ]
  },
  {
   "cell_type": "code",
   "execution_count": 31,
   "id": "24d454ab",
   "metadata": {},
   "outputs": [
    {
     "data": {
      "image/png": "[encoded data removed]",
      "text/plain": [
       "<Figure size 432x288 with 1 Axes>"
      ]
     },
     "metadata": {
      "needs_background": "light"
     },
     "output_type": "display_data"
    }
   ],
   "source": [
    "# which month have most Movie and TV Show\n",
    "\n",
    "df['date_month']= df['date_added'].dt.month\n",
    "sns.countplot(x='date_month',data=df,order=df['date_month'].value_counts().index[:10])\n",
    "plt.show();"
   ]
  },
  {
   "cell_type": "markdown",
   "id": "6f563f89",
   "metadata": {},
   "source": [
    "<a id='directors'></a>\n",
    "### Which  directors have worked on the most TV shows and movies on Netflix?"
   ]
  },
  {
   "cell_type": "code",
   "execution_count": 32,
   "id": "7c4acb25",
   "metadata": {},
   "outputs": [
    {
     "data": {
      "text/plain": [
       "Not Given                         2588\n",
       "Rajiv Chilaka                       20\n",
       "Alastair Fothergill                 18\n",
       "Raúl Campos, Jan Suter              18\n",
       "Suhas Kadav                         16\n",
       "                                  ... \n",
       "Matt D'Avella                        1\n",
       "Parthiban                            1\n",
       "Scott McAboy                         1\n",
       "Raymie Muzquiz, Stu Livingston       1\n",
       "Mozez Singh                          1\n",
       "Name: director, Length: 4528, dtype: int64"
      ]
     },
     "execution_count": 32,
     "metadata": {},
     "output_type": "execute_result"
    }
   ],
   "source": [
    "df['director'].value_counts()"
   ]
  },
  {
   "cell_type": "markdown",
   "id": "271caf9f",
   "metadata": {},
   "source": [
    "#### notes:\n",
    "* Most of Movies and TV Show doesn't have Director name "
   ]
  },
  {
   "cell_type": "code",
   "execution_count": 33,
   "id": "655f055d",
   "metadata": {},
   "outputs": [
    {
     "data": {
      "image/png": "[encoded data removed]",
      "text/plain": [
       "<Figure size 432x288 with 1 Axes>"
      ]
     },
     "metadata": {
      "needs_background": "light"
     },
     "output_type": "display_data"
    }
   ],
   "source": [
    "sns.countplot(y = df['director'], order=df['director'].value_counts().index[1:6])\n",
    "plt.title('Top  5 Director ') # without 'Not given' \n",
    "plt.show()"
   ]
  },
  {
   "cell_type": "markdown",
   "id": "133a7bf4",
   "metadata": {},
   "source": [
    "<a id='avgduration'></a>\n",
    "### What is the average duration of TV shows and Movies on Netflix?"
   ]
  },
  {
   "cell_type": "code",
   "execution_count": 34,
   "id": "71768b7a",
   "metadata": {},
   "outputs": [
    {
     "data": {
      "text/plain": [
       "0          90 min\n",
       "1        1 Season\n",
       "2        1 Season\n",
       "3          91 min\n",
       "4         125 min\n",
       "          ...    \n",
       "8785    2 Seasons\n",
       "8786    3 Seasons\n",
       "8787     1 Season\n",
       "8788     1 Season\n",
       "8789     1 Season\n",
       "Name: duration, Length: 8790, dtype: object"
      ]
     },
     "execution_count": 34,
     "metadata": {},
     "output_type": "execute_result"
    }
   ],
   "source": [
    "df['duration']"
   ]
  },
  {
   "cell_type": "code",
   "execution_count": 35,
   "id": "3a690cf1",
   "metadata": {},
   "outputs": [
    {
     "data": {
      "text/plain": [
       "0        90\n",
       "1         1\n",
       "2         1\n",
       "3        91\n",
       "4       125\n",
       "       ... \n",
       "8785      2\n",
       "8786      3\n",
       "8787      1\n",
       "8788      1\n",
       "8789      1\n",
       "Name: duration, Length: 8790, dtype: object"
      ]
     },
     "execution_count": 35,
     "metadata": {},
     "output_type": "execute_result"
    }
   ],
   "source": [
    "df['duration'].str.split(' ').str[0]"
   ]
  },
  {
   "cell_type": "markdown",
   "id": "733f175e",
   "metadata": {},
   "source": [
    "* Not distinguish between movie and show so let's try another approach"
   ]
  },
  {
   "cell_type": "code",
   "execution_count": 36,
   "id": "da7a3028",
   "metadata": {},
   "outputs": [
    {
     "data": {
      "text/html": [
       "<div>\n",
       "<style scoped>\n",
       "    .dataframe tbody tr th:only-of-type {\n",
       "        vertical-align: middle;\n",
       "    }\n",
       "\n",
       "    .dataframe tbody tr th {\n",
       "        vertical-align: top;\n",
       "    }\n",
       "\n",
       "    .dataframe thead th {\n",
       "        text-align: right;\n",
       "    }\n",
       "</style>\n",
       "<table border=\"1\" class=\"dataframe\">\n",
       "  <thead>\n",
       "    <tr style=\"text-align: right;\">\n",
       "      <th></th>\n",
       "      <th>show_id</th>\n",
       "      <th>type</th>\n",
       "      <th>title</th>\n",
       "      <th>director</th>\n",
       "      <th>country</th>\n",
       "      <th>date_added</th>\n",
       "      <th>release_year</th>\n",
       "      <th>rating</th>\n",
       "      <th>duration</th>\n",
       "      <th>listed_in</th>\n",
       "      <th>date_year</th>\n",
       "      <th>date_month</th>\n",
       "    </tr>\n",
       "  </thead>\n",
       "  <tbody>\n",
       "    <tr>\n",
       "      <th>1</th>\n",
       "      <td>s3</td>\n",
       "      <td>TV Show</td>\n",
       "      <td>Ganglands</td>\n",
       "      <td>Julien Leclercq</td>\n",
       "      <td>France</td>\n",
       "      <td>2021-09-24</td>\n",
       "      <td>2021</td>\n",
       "      <td>TV-MA</td>\n",
       "      <td>1 Season</td>\n",
       "      <td>Crime TV Shows, International TV Shows, TV Act...</td>\n",
       "      <td>2021</td>\n",
       "      <td>9</td>\n",
       "    </tr>\n",
       "    <tr>\n",
       "      <th>2</th>\n",
       "      <td>s6</td>\n",
       "      <td>TV Show</td>\n",
       "      <td>Midnight Mass</td>\n",
       "      <td>Mike Flanagan</td>\n",
       "      <td>United States</td>\n",
       "      <td>2021-09-24</td>\n",
       "      <td>2021</td>\n",
       "      <td>TV-MA</td>\n",
       "      <td>1 Season</td>\n",
       "      <td>TV Dramas, TV Horror, TV Mysteries</td>\n",
       "      <td>2021</td>\n",
       "      <td>9</td>\n",
       "    </tr>\n",
       "    <tr>\n",
       "      <th>5</th>\n",
       "      <td>s9</td>\n",
       "      <td>TV Show</td>\n",
       "      <td>The Great British Baking Show</td>\n",
       "      <td>Andy Devonshire</td>\n",
       "      <td>United Kingdom</td>\n",
       "      <td>2021-09-24</td>\n",
       "      <td>2021</td>\n",
       "      <td>TV-14</td>\n",
       "      <td>9 Seasons</td>\n",
       "      <td>British TV Shows, Reality TV</td>\n",
       "      <td>2021</td>\n",
       "      <td>9</td>\n",
       "    </tr>\n",
       "    <tr>\n",
       "      <th>17</th>\n",
       "      <td>s4</td>\n",
       "      <td>TV Show</td>\n",
       "      <td>Jailbirds New Orleans</td>\n",
       "      <td>Not Given</td>\n",
       "      <td>Pakistan</td>\n",
       "      <td>2021-09-24</td>\n",
       "      <td>2021</td>\n",
       "      <td>TV-MA</td>\n",
       "      <td>1 Season</td>\n",
       "      <td>Docuseries, Reality TV</td>\n",
       "      <td>2021</td>\n",
       "      <td>9</td>\n",
       "    </tr>\n",
       "    <tr>\n",
       "      <th>18</th>\n",
       "      <td>s15</td>\n",
       "      <td>TV Show</td>\n",
       "      <td>Crime Stories: India Detectives</td>\n",
       "      <td>Not Given</td>\n",
       "      <td>Pakistan</td>\n",
       "      <td>2021-09-22</td>\n",
       "      <td>2021</td>\n",
       "      <td>TV-MA</td>\n",
       "      <td>1 Season</td>\n",
       "      <td>British TV Shows, Crime TV Shows, Docuseries</td>\n",
       "      <td>2021</td>\n",
       "      <td>9</td>\n",
       "    </tr>\n",
       "  </tbody>\n",
       "</table>\n",
       "</div>"
      ],
      "text/plain": [
       "   show_id     type                            title         director  \\\n",
       "1       s3  TV Show                        Ganglands  Julien Leclercq   \n",
       "2       s6  TV Show                    Midnight Mass    Mike Flanagan   \n",
       "5       s9  TV Show    The Great British Baking Show  Andy Devonshire   \n",
       "17      s4  TV Show            Jailbirds New Orleans        Not Given   \n",
       "18     s15  TV Show  Crime Stories: India Detectives        Not Given   \n",
       "\n",
       "           country date_added  release_year rating   duration  \\\n",
       "1           France 2021-09-24          2021  TV-MA   1 Season   \n",
       "2    United States 2021-09-24          2021  TV-MA   1 Season   \n",
       "5   United Kingdom 2021-09-24          2021  TV-14  9 Seasons   \n",
       "17        Pakistan 2021-09-24          2021  TV-MA   1 Season   \n",
       "18        Pakistan 2021-09-22          2021  TV-MA   1 Season   \n",
       "\n",
       "                                            listed_in  date_year  date_month  \n",
       "1   Crime TV Shows, International TV Shows, TV Act...       2021           9  \n",
       "2                  TV Dramas, TV Horror, TV Mysteries       2021           9  \n",
       "5                        British TV Shows, Reality TV       2021           9  \n",
       "17                             Docuseries, Reality TV       2021           9  \n",
       "18       British TV Shows, Crime TV Shows, Docuseries       2021           9  "
      ]
     },
     "execution_count": 36,
     "metadata": {},
     "output_type": "execute_result"
    }
   ],
   "source": [
    "df[df.type == 'TV Show'].head()"
   ]
  },
  {
   "cell_type": "code",
   "execution_count": 37,
   "id": "ecf80a83",
   "metadata": {},
   "outputs": [
    {
     "data": {
      "text/plain": [
       "1        1 Season\n",
       "2        1 Season\n",
       "5       9 Seasons\n",
       "17       1 Season\n",
       "18       1 Season\n",
       "          ...    \n",
       "8785    2 Seasons\n",
       "8786    3 Seasons\n",
       "8787     1 Season\n",
       "8788     1 Season\n",
       "8789     1 Season\n",
       "Name: duration, Length: 2664, dtype: object"
      ]
     },
     "execution_count": 37,
     "metadata": {},
     "output_type": "execute_result"
    }
   ],
   "source": [
    "df[df.type == 'TV Show']['duration']"
   ]
  },
  {
   "cell_type": "code",
   "execution_count": 38,
   "id": "582a6e38",
   "metadata": {},
   "outputs": [
    {
     "data": {
      "text/plain": [
       "1     1\n",
       "2     1\n",
       "5     9\n",
       "17    1\n",
       "18    1\n",
       "Name: duration, dtype: int32"
      ]
     },
     "execution_count": 38,
     "metadata": {},
     "output_type": "execute_result"
    }
   ],
   "source": [
    "df[df.type == 'TV Show']['duration'].str.split(' ').str[0].astype(int).head()"
   ]
  },
  {
   "cell_type": "code",
   "execution_count": 39,
   "id": "883b5c8f",
   "metadata": {},
   "outputs": [
    {
     "data": {
      "image/png": "[encoded data removed]",
      "text/plain": [
       "<Figure size 432x288 with 1 Axes>"
      ]
     },
     "metadata": {
      "needs_background": "light"
     },
     "output_type": "display_data"
    }
   ],
   "source": [
    "(df[df.type == 'TV Show']['duration'].str.split(' ').str[0].astype(int)).value_counts().plot(kind='bar');\n",
    "plt.title('TV show/Seasons duration');"
   ]
  },
  {
   "cell_type": "markdown",
   "id": "f7b33bfb",
   "metadata": {},
   "source": [
    "* Most of The TV shows have one season"
   ]
  },
  {
   "cell_type": "code",
   "execution_count": 40,
   "id": "d1c64e96",
   "metadata": {},
   "outputs": [
    {
     "data": {
      "text/plain": [
       "0     90 min\n",
       "3     91 min\n",
       "4    125 min\n",
       "6    104 min\n",
       "7     87 min\n",
       "Name: duration, dtype: object"
      ]
     },
     "execution_count": 40,
     "metadata": {},
     "output_type": "execute_result"
    }
   ],
   "source": [
    "# let's do same thing for Movie\n",
    "df[df.type == 'Movie']['duration'].head()"
   ]
  },
  {
   "cell_type": "code",
   "execution_count": 41,
   "id": "a83c2c7b",
   "metadata": {},
   "outputs": [
    {
     "data": {
      "text/plain": [
       "90 min     152\n",
       "93 min     146\n",
       "94 min     146\n",
       "97 min     146\n",
       "91 min     144\n",
       "          ... \n",
       "208 min      1\n",
       "5 min        1\n",
       "16 min       1\n",
       "186 min      1\n",
       "312 min      1\n",
       "Name: duration, Length: 205, dtype: int64"
      ]
     },
     "execution_count": 41,
     "metadata": {},
     "output_type": "execute_result"
    }
   ],
   "source": [
    "df[df.type == 'Movie']['duration'].value_counts()"
   ]
  },
  {
   "cell_type": "code",
   "execution_count": 42,
   "id": "841094ea",
   "metadata": {},
   "outputs": [
    {
     "data": {
      "image/png": "[encoded data removed]",
      "text/plain": [
       "<Figure size 432x288 with 1 Axes>"
      ]
     },
     "metadata": {
      "needs_background": "light"
     },
     "output_type": "display_data"
    }
   ],
   "source": [
    "(df[df.type == 'Movie']['duration'].str.split(' ').str[0].astype(int)).value_counts()[:50].plot(kind='hist');\n",
    "plt.title(' Movie duration ');"
   ]
  },
  {
   "cell_type": "markdown",
   "id": "6745a194",
   "metadata": {},
   "source": [
    "* Avg Duration of Movies is almost lie between   Mins"
   ]
  },
  {
   "cell_type": "markdown",
   "id": "c79b2101",
   "metadata": {},
   "source": [
    "<a id='distRating'></a>\n",
    "### What is the distribution of movie and TV show ratings on Netflix?"
   ]
  },
  {
   "cell_type": "code",
   "execution_count": 43,
   "id": "a9d20adc",
   "metadata": {},
   "outputs": [
    {
     "data": {
      "text/html": [
       "<div>\n",
       "<style scoped>\n",
       "    .dataframe tbody tr th:only-of-type {\n",
       "        vertical-align: middle;\n",
       "    }\n",
       "\n",
       "    .dataframe tbody tr th {\n",
       "        vertical-align: top;\n",
       "    }\n",
       "\n",
       "    .dataframe thead th {\n",
       "        text-align: right;\n",
       "    }\n",
       "</style>\n",
       "<table border=\"1\" class=\"dataframe\">\n",
       "  <thead>\n",
       "    <tr style=\"text-align: right;\">\n",
       "      <th></th>\n",
       "      <th>show_id</th>\n",
       "      <th>type</th>\n",
       "      <th>title</th>\n",
       "      <th>director</th>\n",
       "      <th>country</th>\n",
       "      <th>date_added</th>\n",
       "      <th>release_year</th>\n",
       "      <th>rating</th>\n",
       "      <th>duration</th>\n",
       "      <th>listed_in</th>\n",
       "      <th>date_year</th>\n",
       "      <th>date_month</th>\n",
       "    </tr>\n",
       "  </thead>\n",
       "  <tbody>\n",
       "    <tr>\n",
       "      <th>0</th>\n",
       "      <td>s1</td>\n",
       "      <td>Movie</td>\n",
       "      <td>Dick Johnson Is Dead</td>\n",
       "      <td>Kirsten Johnson</td>\n",
       "      <td>United States</td>\n",
       "      <td>2021-09-25</td>\n",
       "      <td>2020</td>\n",
       "      <td>PG-13</td>\n",
       "      <td>90 min</td>\n",
       "      <td>Documentaries</td>\n",
       "      <td>2021</td>\n",
       "      <td>9</td>\n",
       "    </tr>\n",
       "  </tbody>\n",
       "</table>\n",
       "</div>"
      ],
      "text/plain": [
       "  show_id   type                 title         director        country  \\\n",
       "0      s1  Movie  Dick Johnson Is Dead  Kirsten Johnson  United States   \n",
       "\n",
       "  date_added  release_year rating duration      listed_in  date_year  \\\n",
       "0 2021-09-25          2020  PG-13   90 min  Documentaries       2021   \n",
       "\n",
       "   date_month  \n",
       "0           9  "
      ]
     },
     "execution_count": 43,
     "metadata": {},
     "output_type": "execute_result"
    }
   ],
   "source": [
    "df.head(1)"
   ]
  },
  {
   "cell_type": "code",
   "execution_count": 44,
   "id": "bec6421e",
   "metadata": {},
   "outputs": [
    {
     "data": {
      "image/png": "[encoded data removed]",
      "text/plain": [
       "<Figure size 432x288 with 1 Axes>"
      ]
     },
     "metadata": {
      "needs_background": "light"
     },
     "output_type": "display_data"
    }
   ],
   "source": [
    "sns.countplot(x = df['rating'], order=df['rating'].value_counts().index[:10])\n",
    "plt.title('Top  10 Ratings ') \n",
    "plt.show()"
   ]
  },
  {
   "cell_type": "code",
   "execution_count": 45,
   "id": "55938584",
   "metadata": {},
   "outputs": [
    {
     "data": {
      "image/png": "[encoded data removed]",
      "text/plain": [
       "<Figure size 864x576 with 1 Axes>"
      ]
     },
     "metadata": {
      "needs_background": "light"
     },
     "output_type": "display_data"
    }
   ],
   "source": [
    "#Is there a relationship  between ratings and duration\n",
    "# so we will use scatter plot\n",
    "df.plot(x=\"duration\", y=\"rating\", kind=\"scatter\", figsize = (12,8))\n",
    "plt.ylabel('rating')\n",
    "plt.xlabel('duration')\n",
    "plt.title('Relation between rating and duration');"
   ]
  },
  {
   "cell_type": "markdown",
   "id": "23bda4c7",
   "metadata": {},
   "source": [
    "<a id='patterns'></a>\n",
    "### Are there any patterns or trends in the release dates of TV shows and movies on Netflix?"
   ]
  },
  {
   "cell_type": "code",
   "execution_count": 46,
   "id": "f0b3b43e",
   "metadata": {},
   "outputs": [
    {
     "data": {
      "text/plain": [
       "2018    1146\n",
       "2017    1030\n",
       "2019    1030\n",
       "2020     953\n",
       "2016     901\n",
       "Name: release_year, dtype: int64"
      ]
     },
     "execution_count": 46,
     "metadata": {},
     "output_type": "execute_result"
    }
   ],
   "source": [
    "df['release_year'].value_counts().nlargest(5)"
   ]
  },
  {
   "cell_type": "code",
   "execution_count": 47,
   "id": "edcd642b",
   "metadata": {},
   "outputs": [
    {
     "data": {
      "text/plain": [
       "release_year\n",
       "1925       1\n",
       "1942       2\n",
       "1943       3\n",
       "1944       3\n",
       "1945       4\n",
       "        ... \n",
       "2017    1030\n",
       "2018    1146\n",
       "2019    1030\n",
       "2020     953\n",
       "2021     592\n",
       "Name: show_id, Length: 74, dtype: int64"
      ]
     },
     "execution_count": 47,
     "metadata": {},
     "output_type": "execute_result"
    }
   ],
   "source": [
    "df.groupby(\"release_year\")[\"show_id\"].count()"
   ]
  },
  {
   "cell_type": "code",
   "execution_count": 48,
   "id": "f6e4dfa7",
   "metadata": {},
   "outputs": [
    {
     "data": {
      "text/html": [
       "<div>\n",
       "<style scoped>\n",
       "    .dataframe tbody tr th:only-of-type {\n",
       "        vertical-align: middle;\n",
       "    }\n",
       "\n",
       "    .dataframe tbody tr th {\n",
       "        vertical-align: top;\n",
       "    }\n",
       "\n",
       "    .dataframe thead th {\n",
       "        text-align: right;\n",
       "    }\n",
       "</style>\n",
       "<table border=\"1\" class=\"dataframe\">\n",
       "  <thead>\n",
       "    <tr style=\"text-align: right;\">\n",
       "      <th></th>\n",
       "      <th>release_year</th>\n",
       "      <th>show_id</th>\n",
       "    </tr>\n",
       "  </thead>\n",
       "  <tbody>\n",
       "    <tr>\n",
       "      <th>0</th>\n",
       "      <td>1925</td>\n",
       "      <td>1</td>\n",
       "    </tr>\n",
       "    <tr>\n",
       "      <th>1</th>\n",
       "      <td>1942</td>\n",
       "      <td>2</td>\n",
       "    </tr>\n",
       "    <tr>\n",
       "      <th>2</th>\n",
       "      <td>1943</td>\n",
       "      <td>3</td>\n",
       "    </tr>\n",
       "    <tr>\n",
       "      <th>3</th>\n",
       "      <td>1944</td>\n",
       "      <td>3</td>\n",
       "    </tr>\n",
       "    <tr>\n",
       "      <th>4</th>\n",
       "      <td>1945</td>\n",
       "      <td>4</td>\n",
       "    </tr>\n",
       "    <tr>\n",
       "      <th>5</th>\n",
       "      <td>1946</td>\n",
       "      <td>2</td>\n",
       "    </tr>\n",
       "    <tr>\n",
       "      <th>6</th>\n",
       "      <td>1947</td>\n",
       "      <td>1</td>\n",
       "    </tr>\n",
       "    <tr>\n",
       "      <th>7</th>\n",
       "      <td>1954</td>\n",
       "      <td>2</td>\n",
       "    </tr>\n",
       "    <tr>\n",
       "      <th>8</th>\n",
       "      <td>1955</td>\n",
       "      <td>3</td>\n",
       "    </tr>\n",
       "    <tr>\n",
       "      <th>9</th>\n",
       "      <td>1956</td>\n",
       "      <td>2</td>\n",
       "    </tr>\n",
       "  </tbody>\n",
       "</table>\n",
       "</div>"
      ],
      "text/plain": [
       "   release_year  show_id\n",
       "0          1925        1\n",
       "1          1942        2\n",
       "2          1943        3\n",
       "3          1944        3\n",
       "4          1945        4\n",
       "5          1946        2\n",
       "6          1947        1\n",
       "7          1954        2\n",
       "8          1955        3\n",
       "9          1956        2"
      ]
     },
     "execution_count": 48,
     "metadata": {},
     "output_type": "execute_result"
    }
   ],
   "source": [
    "Trends=df.groupby(\"release_year\")[\"show_id\"].count().reset_index()\n",
    "Trends.head(10)"
   ]
  },
  {
   "cell_type": "code",
   "execution_count": 49,
   "id": "8cdf8ddb",
   "metadata": {},
   "outputs": [
    {
     "data": {
      "image/png": "[encoded data removed]",
      "text/plain": [
       "<Figure size 432x288 with 1 Axes>"
      ]
     },
     "metadata": {
      "needs_background": "light"
     },
     "output_type": "display_data"
    }
   ],
   "source": [
    "sns.lineplot(x = 'release_year' ,y = 'show_id',data =Trends)\n",
    "plt.title(\"Trends  over release years\")\n",
    "plt.show(); "
   ]
  },
  {
   "cell_type": "code",
   "execution_count": 50,
   "id": "188adfec",
   "metadata": {},
   "outputs": [],
   "source": [
    "last_trends=df.query(\"release_year >= 2010\")\n",
    "last_trends2=last_trends.groupby(\"release_year\")[\"show_id\"].count().reset_index()"
   ]
  },
  {
   "cell_type": "code",
   "execution_count": 51,
   "id": "511033dc",
   "metadata": {},
   "outputs": [
    {
     "data": {
      "image/png": "[encoded data removed]",
      "text/plain": [
       "<Figure size 432x288 with 1 Axes>"
      ]
     },
     "metadata": {
      "needs_background": "light"
     },
     "output_type": "display_data"
    }
   ],
   "source": [
    "sns.lineplot(x = 'release_year',y = 'show_id',data =last_trends2)\n",
    "plt.title(\"Trends  over release years\")\n",
    "plt.show(); "
   ]
  },
  {
   "cell_type": "markdown",
   "id": "c50c08f4",
   "metadata": {},
   "source": [
    "#### notes:\n",
    "* 2014 is begining of Movie/TV show expantion\n",
    "* 2018 is the most were year Movie/TV show lunched \n",
    "* after 2018 there is a noticeable decline"
   ]
  },
  {
   "cell_type": "markdown",
   "id": "b3c1574a",
   "metadata": {},
   "source": [
    "<a id='gen'></a>\n",
    "### What is the most Genres for Movies and TV Shows On Netflix?"
   ]
  },
  {
   "cell_type": "code",
   "execution_count": 52,
   "id": "954b7e4f",
   "metadata": {},
   "outputs": [
    {
     "name": "stdout",
     "output_type": "stream",
     "text": [
      "0                                         [Documentaries]\n",
      "1       [Crime TV Shows,  International TV Shows,  TV ...\n",
      "2                  [TV Dramas,  TV Horror,  TV Mysteries]\n",
      "3                   [Children & Family Movies,  Comedies]\n",
      "4       [Dramas,  Independent Movies,  International M...\n",
      "                              ...                        \n",
      "8785                 [International TV Shows,  TV Dramas]\n",
      "8786                                           [Kids' TV]\n",
      "8787    [International TV Shows,  Romantic TV Shows,  ...\n",
      "8788                                           [Kids' TV]\n",
      "8789                                           [Kids' TV]\n",
      "Name: listed_in, Length: 8790, dtype: object\n"
     ]
    }
   ],
   "source": [
    "print(df['listed_in'].str.split(\",\"))"
   ]
  },
  {
   "cell_type": "code",
   "execution_count": 53,
   "id": "d556fa44",
   "metadata": {},
   "outputs": [
    {
     "name": "stdout",
     "output_type": "stream",
     "text": [
      "                             0                        1  \\\n",
      "0                Documentaries                     None   \n",
      "1               Crime TV Shows   International TV Shows   \n",
      "2                    TV Dramas                TV Horror   \n",
      "3     Children & Family Movies                 Comedies   \n",
      "4                       Dramas       Independent Movies   \n",
      "...                        ...                      ...   \n",
      "8785    International TV Shows                TV Dramas   \n",
      "8786                  Kids' TV                     None   \n",
      "8787    International TV Shows        Romantic TV Shows   \n",
      "8788                  Kids' TV                     None   \n",
      "8789                  Kids' TV                     None   \n",
      "\n",
      "                           2  \n",
      "0                       None  \n",
      "1      TV Action & Adventure  \n",
      "2               TV Mysteries  \n",
      "3                       None  \n",
      "4       International Movies  \n",
      "...                      ...  \n",
      "8785                    None  \n",
      "8786                    None  \n",
      "8787               TV Dramas  \n",
      "8788                    None  \n",
      "8789                    None  \n",
      "\n",
      "[8790 rows x 3 columns]\n"
     ]
    }
   ],
   "source": [
    "print(df['listed_in'].str.split(\",\" , expand=True))"
   ]
  },
  {
   "cell_type": "code",
   "execution_count": 54,
   "id": "c5df0933",
   "metadata": {},
   "outputs": [
    {
     "name": "stdout",
     "output_type": "stream",
     "text": [
      "0     0              Documentaries\n",
      "1     0             Crime TV Shows\n",
      "      1     International TV Shows\n",
      "      2      TV Action & Adventure\n",
      "2     0                  TV Dramas\n",
      "                    ...           \n",
      "8787  0     International TV Shows\n",
      "      1          Romantic TV Shows\n",
      "      2                  TV Dramas\n",
      "8788  0                   Kids' TV\n",
      "8789  0                   Kids' TV\n",
      "Length: 19294, dtype: object\n"
     ]
    }
   ],
   "source": [
    "print(df['listed_in'].str.split(\",\",expand=True).stack())"
   ]
  },
  {
   "cell_type": "code",
   "execution_count": 55,
   "id": "538f0723",
   "metadata": {},
   "outputs": [
    {
     "name": "stdout",
     "output_type": "stream",
     "text": [
      "       level_0  level_1                        0\n",
      "0            0        0            Documentaries\n",
      "1            1        0           Crime TV Shows\n",
      "2            1        1   International TV Shows\n",
      "3            1        2    TV Action & Adventure\n",
      "4            2        0                TV Dramas\n",
      "...        ...      ...                      ...\n",
      "19289     8787        0   International TV Shows\n",
      "19290     8787        1        Romantic TV Shows\n",
      "19291     8787        2                TV Dramas\n",
      "19292     8788        0                 Kids' TV\n",
      "19293     8789        0                 Kids' TV\n",
      "\n",
      "[19294 rows x 3 columns]\n"
     ]
    }
   ],
   "source": [
    "print(df['listed_in'].str.split(\",\",expand=True).stack().reset_index())"
   ]
  },
  {
   "cell_type": "code",
   "execution_count": 56,
   "id": "b4ce7919",
   "metadata": {},
   "outputs": [
    {
     "name": "stdout",
     "output_type": "stream",
     "text": [
      "      level_1                        0\n",
      "0           0            Documentaries\n",
      "1           0           Crime TV Shows\n",
      "1           1   International TV Shows\n",
      "1           2    TV Action & Adventure\n",
      "2           0                TV Dramas\n",
      "...       ...                      ...\n",
      "8787        0   International TV Shows\n",
      "8787        1        Romantic TV Shows\n",
      "8787        2                TV Dramas\n",
      "8788        0                 Kids' TV\n",
      "8789        0                 Kids' TV\n",
      "\n",
      "[19294 rows x 2 columns]\n"
     ]
    }
   ],
   "source": [
    "print(df['listed_in'].str.split(\",\",expand=True).stack().reset_index(level=1))"
   ]
  },
  {
   "cell_type": "code",
   "execution_count": 57,
   "id": "409129ee",
   "metadata": {},
   "outputs": [
    {
     "name": "stdout",
     "output_type": "stream",
     "text": [
      "0                 Documentaries\n",
      "1                Crime TV Shows\n",
      "1        International TV Shows\n",
      "1         TV Action & Adventure\n",
      "2                     TV Dramas\n",
      "                 ...           \n",
      "8787     International TV Shows\n",
      "8787          Romantic TV Shows\n",
      "8787                  TV Dramas\n",
      "8788                   Kids' TV\n",
      "8789                   Kids' TV\n",
      "Length: 19294, dtype: object\n"
     ]
    }
   ],
   "source": [
    "print(df['listed_in'].str.split(\",\",expand=True).stack().reset_index(level=1,drop=True))"
   ]
  },
  {
   "cell_type": "code",
   "execution_count": 58,
   "id": "bb467c9e",
   "metadata": {},
   "outputs": [],
   "source": [
    "#title  represent  \"movies_count\"and  \"listed_in\" represent \"Genre\"\n",
    "genres =df.set_index('title').listed_in.str.split(\",\",expand=True).stack().reset_index(level=1,drop=True)"
   ]
  },
  {
   "cell_type": "code",
   "execution_count": 59,
   "id": "31024e06",
   "metadata": {},
   "outputs": [
    {
     "data": {
      "text/plain": [
       " International Movies        2624\n",
       "Dramas                       1599\n",
       "Comedies                     1210\n",
       "Action & Adventure            859\n",
       "Documentaries                 829\n",
       "                             ... \n",
       "Romantic Movies                 3\n",
       "Spanish-Language TV Shows       2\n",
       "LGBTQ Movies                    1\n",
       "TV Sci-Fi & Fantasy             1\n",
       "Sports Movies                   1\n",
       "Length: 73, dtype: int64"
      ]
     },
     "execution_count": 59,
     "metadata": {},
     "output_type": "execute_result"
    }
   ],
   "source": [
    "genres.value_counts()"
   ]
  },
  {
   "cell_type": "code",
   "execution_count": 60,
   "id": "2aa7ff3d",
   "metadata": {},
   "outputs": [
    {
     "data": {
      "image/png": "[encoded data removed]",
      "text/plain": [
       "<Figure size 432x288 with 1 Axes>"
      ]
     },
     "metadata": {
      "needs_background": "light"
     },
     "output_type": "display_data"
    }
   ],
   "source": [
    "sns.countplot(y = genres, order=genres.value_counts().index[:10]);"
   ]
  },
  {
   "cell_type": "markdown",
   "id": "8d78ea0f",
   "metadata": {},
   "source": [
    "* Most  three common genres are international movies ,Dramas  and Comedies"
   ]
  },
  {
   "cell_type": "markdown",
   "id": "1808ebf1",
   "metadata": {},
   "source": [
    "<a id='top'></a>\n",
    "### What is the top Countries have diffrenet categories of genres?"
   ]
  },
  {
   "cell_type": "code",
   "execution_count": 61,
   "id": "189ba51b",
   "metadata": {},
   "outputs": [],
   "source": [
    "top_categories = pd.DataFrame(df.groupby(['country','listed_in']).size().groupby(['country']).idxmax()).rename(\n",
    "    columns={0:'top category'})"
   ]
  },
  {
   "cell_type": "code",
   "execution_count": 62,
   "id": "fb1a1e1c",
   "metadata": {},
   "outputs": [
    {
     "data": {
      "text/html": [
       "<div>\n",
       "<style scoped>\n",
       "    .dataframe tbody tr th:only-of-type {\n",
       "        vertical-align: middle;\n",
       "    }\n",
       "\n",
       "    .dataframe tbody tr th {\n",
       "        vertical-align: top;\n",
       "    }\n",
       "\n",
       "    .dataframe thead th {\n",
       "        text-align: right;\n",
       "    }\n",
       "</style>\n",
       "<table border=\"1\" class=\"dataframe\">\n",
       "  <thead>\n",
       "    <tr style=\"text-align: right;\">\n",
       "      <th></th>\n",
       "      <th>top category</th>\n",
       "    </tr>\n",
       "    <tr>\n",
       "      <th>country</th>\n",
       "      <th></th>\n",
       "    </tr>\n",
       "  </thead>\n",
       "  <tbody>\n",
       "    <tr>\n",
       "      <th>Argentina</th>\n",
       "      <td>(Argentina, Dramas, International Movies)</td>\n",
       "    </tr>\n",
       "    <tr>\n",
       "      <th>Australia</th>\n",
       "      <td>(Australia, Docuseries, International TV Shows...</td>\n",
       "    </tr>\n",
       "    <tr>\n",
       "      <th>Austria</th>\n",
       "      <td>(Austria, Dramas, International Movies)</td>\n",
       "    </tr>\n",
       "    <tr>\n",
       "      <th>Bangladesh</th>\n",
       "      <td>(Bangladesh, Dramas, Independent Movies, Inter...</td>\n",
       "    </tr>\n",
       "    <tr>\n",
       "      <th>Belarus</th>\n",
       "      <td>(Belarus, British TV Shows, Kids' TV, TV Comed...</td>\n",
       "    </tr>\n",
       "    <tr>\n",
       "      <th>...</th>\n",
       "      <td>...</td>\n",
       "    </tr>\n",
       "    <tr>\n",
       "      <th>Uruguay</th>\n",
       "      <td>(Uruguay, Comedies, Dramas, International Movies)</td>\n",
       "    </tr>\n",
       "    <tr>\n",
       "      <th>Venezuela</th>\n",
       "      <td>(Venezuela, Documentaries, International Movies)</td>\n",
       "    </tr>\n",
       "    <tr>\n",
       "      <th>Vietnam</th>\n",
       "      <td>(Vietnam, Action &amp; Adventure, Comedies, Intern...</td>\n",
       "    </tr>\n",
       "    <tr>\n",
       "      <th>West Germany</th>\n",
       "      <td>(West Germany, Documentaries, International Mo...</td>\n",
       "    </tr>\n",
       "    <tr>\n",
       "      <th>Zimbabwe</th>\n",
       "      <td>(Zimbabwe, Comedies, International Movies, Rom...</td>\n",
       "    </tr>\n",
       "  </tbody>\n",
       "</table>\n",
       "<p>86 rows × 1 columns</p>\n",
       "</div>"
      ],
      "text/plain": [
       "                                                   top category\n",
       "country                                                        \n",
       "Argentina             (Argentina, Dramas, International Movies)\n",
       "Australia     (Australia, Docuseries, International TV Shows...\n",
       "Austria                 (Austria, Dramas, International Movies)\n",
       "Bangladesh    (Bangladesh, Dramas, Independent Movies, Inter...\n",
       "Belarus       (Belarus, British TV Shows, Kids' TV, TV Comed...\n",
       "...                                                         ...\n",
       "Uruguay       (Uruguay, Comedies, Dramas, International Movies)\n",
       "Venezuela      (Venezuela, Documentaries, International Movies)\n",
       "Vietnam       (Vietnam, Action & Adventure, Comedies, Intern...\n",
       "West Germany  (West Germany, Documentaries, International Mo...\n",
       "Zimbabwe      (Zimbabwe, Comedies, International Movies, Rom...\n",
       "\n",
       "[86 rows x 1 columns]"
      ]
     },
     "execution_count": 62,
     "metadata": {},
     "output_type": "execute_result"
    }
   ],
   "source": [
    "top_categories"
   ]
  },
  {
   "cell_type": "markdown",
   "id": "68a07159",
   "metadata": {},
   "source": [
    "# what about Egypt?"
   ]
  },
  {
   "cell_type": "code",
   "execution_count": 63,
   "id": "4596ed04",
   "metadata": {},
   "outputs": [
    {
     "data": {
      "text/plain": [
       "top category    (Egypt, Comedies, International Movies)\n",
       "Name: Egypt, dtype: object"
      ]
     },
     "execution_count": 63,
     "metadata": {},
     "output_type": "execute_result"
    }
   ],
   "source": [
    "top_categories.loc['Egypt']"
   ]
  },
  {
   "cell_type": "markdown",
   "id": "20aba3d3",
   "metadata": {},
   "source": [
    "<a id='years_needed'></a>\n",
    "# How many years needed to add show to Netflix from it's releas..?"
   ]
  },
  {
   "cell_type": "code",
   "execution_count": 64,
   "id": "54c39d0c",
   "metadata": {},
   "outputs": [
    {
     "name": "stdout",
     "output_type": "stream",
     "text": [
      "Average needed years are:\t1.74 Years\n"
     ]
    }
   ],
   "source": [
    "years_needed = df.date_year - df.release_year\n",
    "years_needed = years_needed[years_needed<10]\n",
    "print(f'Average needed years are:\\t{years_needed.mean():1.2f} Years')"
   ]
  },
  {
   "cell_type": "markdown",
   "id": "5eeac335",
   "metadata": {},
   "source": [
    "# *Thanks*"
   ]
  }
 ],
 "metadata": {
  "kernelspec": {
   "display_name": "Python 3 (ipykernel)",
   "language": "python",
   "name": "python3"
  },
  "language_info": {
   "codemirror_mode": {
    "name": "ipython",
    "version": 3
   },
   "file_extension": ".py",
   "mimetype": "text/x-python",
   "name": "python",
   "nbconvert_exporter": "python",
   "pygments_lexer": "ipython3",
   "version": "3.10.10"
  }
 },
 "nbformat": 4,
 "nbformat_minor": 5
}
